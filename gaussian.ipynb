{
 "cells": [
  {
   "cell_type": "code",
   "execution_count": 1,
   "metadata": {},
   "outputs": [],
   "source": [
    "import numpy as np\n",
    "# import pycbc\n",
    "from gwpy.timeseries import TimeSeries\n",
    "# import bilby\n",
    "from lalframe import utils as fr\n",
    "from lalframe import frread\n",
    "# import gstlal"
   ]
  },
  {
   "cell_type": "code",
   "execution_count": 2,
   "metadata": {},
   "outputs": [],
   "source": [
    "bg = np.random.normal(0, 1, 2048*10)\n",
    "gaussian = TimeSeries(bg)\n",
    "gaussian.channel = 'GAUSSIAN'\n",
    "gaussian.sample_rate = 2048\n",
    "gaussian.write('./gaussian.gwf', format='gwf')"
   ]
  },
  {
   "cell_type": "code",
   "execution_count": 42,
   "metadata": {},
   "outputs": [],
   "source": [
    "# dir(fr.lalframe)"
   ]
  },
  {
   "cell_type": "code",
   "execution_count": 48,
   "metadata": {},
   "outputs": [
    {
     "name": "stdout",
     "output_type": "stream",
     "text": [
      "['GAUSSIAN']\n",
      "GAUSSIAN\n"
     ]
    }
   ],
   "source": [
    "print(fr.get_channels('./gaussian.gwf'))\n",
    "for i in (fr.iter_channels('./gaussian.gwf')):\n",
    "  print(i)"
   ]
  },
  {
   "cell_type": "code",
   "execution_count": 54,
   "metadata": {},
   "outputs": [],
   "source": [
    "source = './gaussian.gwf'\n",
    "channel = fr.get_channels(source)\n",
    "ts = frread.read_timeseries(source=source, channel=channel)"
   ]
  },
  {
   "cell_type": "code",
   "execution_count": 57,
   "metadata": {},
   "outputs": [
    {
     "data": {
      "text/plain": [
       "[<Swig Object of type 'REAL8TimeSeries *' at 0x7fd02ebb6170>]"
      ]
     },
     "execution_count": 57,
     "metadata": {},
     "output_type": "execute_result"
    }
   ],
   "source": [
    "ts"
   ]
  },
  {
   "cell_type": "code",
   "execution_count": null,
   "metadata": {},
   "outputs": [],
   "source": []
  }
 ],
 "metadata": {
  "kernelspec": {
   "display_name": "bilby",
   "language": "python",
   "name": "python3"
  },
  "language_info": {
   "codemirror_mode": {
    "name": "ipython",
    "version": 3
   },
   "file_extension": ".py",
   "mimetype": "text/x-python",
   "name": "python",
   "nbconvert_exporter": "python",
   "pygments_lexer": "ipython3",
   "version": "3.9.16"
  },
  "orig_nbformat": 4,
  "vscode": {
   "interpreter": {
    "hash": "fbe3689257455d9624a0b540deee65e811cc5f1537ae2f6ecfadffa3514ecec7"
   }
  }
 },
 "nbformat": 4,
 "nbformat_minor": 2
}
