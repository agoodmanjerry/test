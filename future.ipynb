{
 "cells": [
  {
   "cell_type": "code",
   "execution_count": 3,
   "metadata": {},
   "outputs": [],
   "source": [
    "import time\n",
    "from concurrent.futures import ThreadPoolExecutor\n",
    "from concurrent.futures import as_completed"
   ]
  },
  {
   "cell_type": "code",
   "execution_count": 24,
   "metadata": {},
   "outputs": [
    {
     "name": "stdout",
     "output_type": "stream",
     "text": [
      "Wake up after 1 sec.\n",
      "Wake up after 2 sec.\n",
      "Wake up after 3 sec.\n",
      "took 6.0064756130000205 seconds\n",
      "\n",
      "Wake up after 1 sec.\n",
      "Wake up after 2 sec.\n",
      "Wake up after 3 sec.\n",
      "took 3.0040360449997934 seconds\n",
      "\n"
     ]
    }
   ],
   "source": [
    "def timing(func):\n",
    "    def timer(*args, **kwargs):\n",
    "        st = time.perf_counter()\n",
    "        func(*args, **kwargs)\n",
    "        et = time.perf_counter()\n",
    "        duration = et - st\n",
    "        print(f\"took {duration} seconds\\n\")\n",
    "    return timer\n",
    "\n",
    "def ZZ(t) -> float:\n",
    "    time.sleep(t)\n",
    "    return t\n",
    "\n",
    "@timing\n",
    "def ZZZ(t):\n",
    "    for tt in range(1, t+1):\n",
    "        ZZ(tt)\n",
    "        print(f\"Wake up after {tt} sec.\")\n",
    "\n",
    "@timing\n",
    "def ZZZ_con_submit(t):\n",
    "    with ThreadPoolExecutor(max_workers=10) as executor:\n",
    "        sleeps = {executor.submit(ZZ, tt) for tt in range(1, t+1)}\n",
    "        for future in as_completed(sleeps):\n",
    "            print(f\"Wake up after {future.result()} sec.\")\n",
    "\n",
    "@timing\n",
    "def ZZZ_con_map(t):\n",
    "    with ThreadPoolExecutor(max_workers=10) as executor:\n",
    "        sleeps = {executor.submit(ZZ, tt) for tt in range(1, t+1)}\n",
    "        for future in as_completed(sleeps):\n",
    "            print(f\"Wake up after {future.result()} sec.\")\n",
    "\n",
    "if __name__ == \"__main__\":\n",
    "    ZZZ(3)\n",
    "    ZZZ_con_submit(3)"
   ]
  },
  {
   "cell_type": "code",
   "execution_count": null,
   "metadata": {},
   "outputs": [],
   "source": []
  }
 ],
 "metadata": {
  "kernelspec": {
   "display_name": "igwn-py39",
   "language": "python",
   "name": "python3"
  },
  "language_info": {
   "codemirror_mode": {
    "name": "ipython",
    "version": 3
   },
   "file_extension": ".py",
   "mimetype": "text/x-python",
   "name": "python",
   "nbconvert_exporter": "python",
   "pygments_lexer": "ipython3",
   "version": "3.10.9"
  },
  "orig_nbformat": 4
 },
 "nbformat": 4,
 "nbformat_minor": 2
}
